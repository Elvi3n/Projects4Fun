{
 "cells": [
  {
   "cell_type": "markdown",
   "metadata": {},
   "source": [
    "## Read me\n",
    "\n",
    "This project uses PRAW (Python Reddit API Wrapper), which requires Reddit OAuth2 credentials to function properly.\n",
    "The results shown below were generated using my personal Reddit account, with the API key and secret redacted for privacy reasons.\n",
    "If you are interested in testing the notebook, please refer to Reddit’s OAuth2 Quick Start Guide (https://github.com/reddit-archive/reddit/wiki/OAuth2) to create your own API credentials and get started.\n"
   ]
  },
  {
   "cell_type": "code",
   "execution_count": null,
   "metadata": {},
   "outputs": [],
   "source": [
    "import praw\n",
    "import pandas as pd\n",
    "import numpy as np\n",
    "import matplotlib.pyplot as plt\n",
    "from vaderSentiment.vaderSentiment import SentimentIntensityAnalyzer\n",
    "from sklearn.feature_extraction.text import TfidfVectorizer\n",
    "from transformers import T5Tokenizer, T5ForConditionalGeneration"
   ]
  },
  {
   "cell_type": "markdown",
   "metadata": {},
   "source": [
    "# Web Scraping\n",
    "\n",
    "## Scraping Reddit Posts with Praw"
   ]
  },
  {
   "cell_type": "code",
   "execution_count": null,
   "metadata": {},
   "outputs": [],
   "source": [
    "# Initiating praw\n",
    "reddit = praw.Reddit(user_agent_= True,\n",
    "                    client_id = '',   # Fill in Reddit API keys for scraping\n",
    "                    client_secret = \"\",\n",
    "                    user_agent = \"\",  \n",
    ")\n",
    "\n",
    "# Selecting Subreddit\n",
    "subreddit = reddit.subreddit(\"pettyrevenge\")\n",
    "\n",
    "# Creating the list for storage\n",
    "title = []\n",
    "body = []\n",
    "url = []\n",
    "\n",
    "# Appending the array\n",
    "for post in subreddit.hot(limit = 100):\n",
    "    title.append(post.title),\n",
    "    body.append(post.selftext),\n",
    "    url.append(post.url)\n",
    "    \n",
    "# Creating a df to store scrapped data\n",
    "df = pd.DataFrame({\n",
    "    'title': title,\n",
    "    'body': body,\n",
    "    'url': url\n",
    "})\n",
    "\n",
    "# Saving the results to csv\n",
    "df.to_csv('scrap_result_praw.csv', index = False)\n"
   ]
  },
  {
   "cell_type": "markdown",
   "metadata": {},
   "source": [
    "# Text Analysis\n",
    "\n",
    "## 2.1 - Sentiment Analysis with Sentiment Intensity Analyzer"
   ]
  },
  {
   "cell_type": "code",
   "execution_count": 10,
   "metadata": {},
   "outputs": [],
   "source": [
    "# Initiate the analyzer\n",
    "sentiment = SentimentIntensityAnalyzer()\n",
    "\n",
    "# Creating an empty list for storage\n",
    "neg = []\n",
    "neu = []\n",
    "pos = []\n",
    "comp = []\n",
    "\n",
    "# Performing text analysis on all reddit posts\n",
    "for post in df['body'].values:\n",
    "    # Text analysis using Vader\n",
    "    scores = sentiment.polarity_scores(post)\n",
    "    \n",
    "    # Appending the scores\n",
    "    neg.append(scores['neg'])\n",
    "    neu.append(scores['neu'])\n",
    "    pos.append(scores['pos'])\n",
    "    comp.append(scores['compound'])\n",
    "\n",
    "# Appending the scores to the df\n",
    "# df['neg'] = neg\n",
    "# df['neu'] = neu\n",
    "# df['pos'] = pos\n",
    "df['sentiment_score'] = comp"
   ]
  },
  {
   "cell_type": "code",
   "execution_count": 11,
   "metadata": {},
   "outputs": [
    {
     "name": "stdout",
     "output_type": "stream",
     "text": [
      "The highest sentiment score (positive sentiment) is: 0.9995\n",
      "The lowest sentiment score (negative sentiment) is: -0.994\n",
      "The range of the score is 1.99\n"
     ]
    }
   ],
   "source": [
    "# Inspecting the range of sentiment score\n",
    "print(f'The highest sentiment score (positive sentiment) is: {df['sentiment_score'].max()}')\n",
    "print(f'The lowest sentiment score (negative sentiment) is: {df['sentiment_score'].min()}')\n",
    "\n",
    "# Inspect the range of the score\n",
    "range = df['sentiment_score'].max() - df['sentiment_score'].min()\n",
    "print(f'The range of the score is {range:.2f}')\n"
   ]
  },
  {
   "cell_type": "code",
   "execution_count": 12,
   "metadata": {},
   "outputs": [
    {
     "data": {
      "image/png": "[encoded data removed]",
      "text/plain": [
       "<Figure size 640x480 with 1 Axes>"
      ]
     },
     "metadata": {},
     "output_type": "display_data"
    }
   ],
   "source": [
    "# Visualizing the distribution\n",
    "plt.hist(df['sentiment_score'], color = 'lightblue', edgecolor = 'white', \n",
    "         bins = int(range/0.15))\n",
    "\n",
    "# Adding labels to the graph\n",
    "plt.title('Distribution of Sentiment scores')\n",
    "plt.xlabel('Compund Sentiment Score')\n",
    "plt.ylabel('Frequency')\n",
    "\n",
    "plt.show()"
   ]
  },
  {
   "cell_type": "markdown",
   "metadata": {},
   "source": [
    "## 2.2 - Word Importance Analysis with Scikit-Learn TF-IDF"
   ]
  },
  {
   "cell_type": "code",
   "execution_count": 13,
   "metadata": {},
   "outputs": [
    {
     "data": {
      "text/plain": [
       "(100, 1562)"
      ]
     },
     "execution_count": 13,
     "metadata": {},
     "output_type": "execute_result"
    }
   ],
   "source": [
    "# Initialize TfidfVectorizer\n",
    "vectorizer = TfidfVectorizer(stop_words = 'english', min_df = 2, max_df = 0.8)\n",
    "\n",
    "# Fit and transform the document\n",
    "tfidf_matrix = vectorizer.fit_transform(df['body'])\n",
    "\n",
    "# Convert the matrix to a DataFrame for readability:\n",
    "df_tfidf = pd.DataFrame(tfidf_matrix.todense(), \n",
    "                        columns = vectorizer.get_feature_names_out())\n",
    "\n",
    "# Determining the dimentions\n",
    "df_tfidf.shape"
   ]
  },
  {
   "cell_type": "code",
   "execution_count": 14,
   "metadata": {},
   "outputs": [
    {
     "data": {
      "text/html": [
       "<div>\n",
       "<style scoped>\n",
       "    .dataframe tbody tr th:only-of-type {\n",
       "        vertical-align: middle;\n",
       "    }\n",
       "\n",
       "    .dataframe tbody tr th {\n",
       "        vertical-align: top;\n",
       "    }\n",
       "\n",
       "    .dataframe thead th {\n",
       "        text-align: right;\n",
       "    }\n",
       "</style>\n",
       "<table border=\"1\" class=\"dataframe\">\n",
       "  <thead>\n",
       "    <tr style=\"text-align: right;\">\n",
       "      <th></th>\n",
       "      <th>title</th>\n",
       "      <th>body</th>\n",
       "      <th>sentiment_score</th>\n",
       "      <th>avg_tfidf</th>\n",
       "    </tr>\n",
       "  </thead>\n",
       "  <tbody>\n",
       "    <tr>\n",
       "      <th>0</th>\n",
       "      <td>MIL kept guilt tripping me for not eating her ...</td>\n",
       "      <td>My Indian mother-in-law thinks that she is the...</td>\n",
       "      <td>-0.7015</td>\n",
       "      <td>0.097612</td>\n",
       "    </tr>\n",
       "    <tr>\n",
       "      <th>1</th>\n",
       "      <td>Xmas three thieves : pettyrevenge</td>\n",
       "      <td>Not my story, an old neighbor from a few house...</td>\n",
       "      <td>-0.5956</td>\n",
       "      <td>0.126103</td>\n",
       "    </tr>\n",
       "    <tr>\n",
       "      <th>2</th>\n",
       "      <td>Dogs off the lawn please : pettyrevenge</td>\n",
       "      <td>The post about the fast food on the lawn remin...</td>\n",
       "      <td>0.6908</td>\n",
       "      <td>0.124188</td>\n",
       "    </tr>\n",
       "    <tr>\n",
       "      <th>3</th>\n",
       "      <td>No more fast food litter on my lawn : pettyrev...</td>\n",
       "      <td>This was the pettiest of petty revenges but it...</td>\n",
       "      <td>0.8093</td>\n",
       "      <td>0.120452</td>\n",
       "    </tr>\n",
       "    <tr>\n",
       "      <th>4</th>\n",
       "      <td>Spread rumors? I can do a whole lot worse. : p...</td>\n",
       "      <td>So for a little context before I get to the re...</td>\n",
       "      <td>-0.9912</td>\n",
       "      <td>0.062070</td>\n",
       "    </tr>\n",
       "  </tbody>\n",
       "</table>\n",
       "</div>"
      ],
      "text/plain": [
       "                                               title  \\\n",
       "0  MIL kept guilt tripping me for not eating her ...   \n",
       "1                  Xmas three thieves : pettyrevenge   \n",
       "2            Dogs off the lawn please : pettyrevenge   \n",
       "3  No more fast food litter on my lawn : pettyrev...   \n",
       "4  Spread rumors? I can do a whole lot worse. : p...   \n",
       "\n",
       "                                                body  sentiment_score  \\\n",
       "0  My Indian mother-in-law thinks that she is the...          -0.7015   \n",
       "1  Not my story, an old neighbor from a few house...          -0.5956   \n",
       "2  The post about the fast food on the lawn remin...           0.6908   \n",
       "3  This was the pettiest of petty revenges but it...           0.8093   \n",
       "4  So for a little context before I get to the re...          -0.9912   \n",
       "\n",
       "   avg_tfidf  \n",
       "0   0.097612  \n",
       "1   0.126103  \n",
       "2   0.124188  \n",
       "3   0.120452  \n",
       "4   0.062070  "
      ]
     },
     "execution_count": 14,
     "metadata": {},
     "output_type": "execute_result"
    }
   ],
   "source": [
    "# Getting the total number of non zero columns\n",
    "non_zero_col = (df_tfidf != 0).sum(axis = 1)\n",
    "\n",
    "# Calculating the compound TF-IDF scores\n",
    "tfidf_total = df_tfidf.sum(axis = 1)\n",
    "avg_tfidf = tfidf_total / non_zero_col\n",
    "\n",
    "# Adding the scores to the df\n",
    "df['avg_tfidf'] = avg_tfidf\n",
    "\n",
    "# Inspecting df\n",
    "df.head()\n"
   ]
  },
  {
   "cell_type": "markdown",
   "metadata": {},
   "source": [
    "## 2.3 - Text Summarization"
   ]
  },
  {
   "cell_type": "code",
   "execution_count": 15,
   "metadata": {},
   "outputs": [
    {
     "name": "stderr",
     "output_type": "stream",
     "text": [
      "You are using the default legacy behaviour of the <class 'transformers.models.t5.tokenization_t5.T5Tokenizer'>. This is expected, and simply means that the `legacy` (previous) behavior will be used so nothing changes for you. If you want to use the new behaviour, set `legacy=False`. This should only be set if you understand what it means, and thoroughly read the reason why this was added as explained in https://github.com/huggingface/transformers/pull/24565\n"
     ]
    }
   ],
   "source": [
    "# Load the model and tokenizer\n",
    "model_name = 't5-base'\n",
    "tokenizer = T5Tokenizer.from_pretrained(model_name)\n",
    "model = T5ForConditionalGeneration.from_pretrained(model_name)"
   ]
  },
  {
   "cell_type": "code",
   "execution_count": 16,
   "metadata": {},
   "outputs": [],
   "source": [
    "# Method to summarize text\n",
    "def summarize(text):\n",
    "    # Tokenization\n",
    "    inputs = tokenizer.encode(\n",
    "        \"summarize: \" + text, \n",
    "        return_tensors = \"pt\", \n",
    "        max_length = 512,  \n",
    "        truncation = True\n",
    "    )\n",
    "    \n",
    "    # Generation\n",
    "    summary_ids = model.generate(\n",
    "        inputs,\n",
    "        max_length = 200,         # Output summary length\n",
    "        min_length = 70,          # Ensures enough content\n",
    "        length_penalty = 1.2,     # Mild penalty\n",
    "        num_beams = 6,            # Better quality\n",
    "        early_stopping = False    # Let model decide when to stop\n",
    "    )\n",
    "    \n",
    "    # Decode\n",
    "    summary = tokenizer.decode(summary_ids[0], skip_special_tokens = True)\n",
    "    return summary\n"
   ]
  },
  {
   "cell_type": "code",
   "execution_count": 17,
   "metadata": {},
   "outputs": [],
   "source": [
    "# Empty array for appending\n",
    "summaries = []\n",
    "\n",
    "# Process every post\n",
    "for post in df['body']:\n",
    "    summaries.append(summarize(post))\n",
    "\n",
    "# Adding to the df\n",
    "df['summary'] = summaries\n",
    "\n",
    "# Inspect df\n",
    "df.head()\n",
    "\n",
    "# Saving the result to csv\n",
    "df.to_csv('final_result.csv')"
   ]
  }
 ],
 "metadata": {
  "kernelspec": {
   "display_name": ".venv",
   "language": "python",
   "name": "python3"
  },
  "language_info": {
   "codemirror_mode": {
    "name": "ipython",
    "version": 3
   },
   "file_extension": ".py",
   "mimetype": "text/x-python",
   "name": "python",
   "nbconvert_exporter": "python",
   "pygments_lexer": "ipython3",
   "version": "3.12.9"
  }
 },
 "nbformat": 4,
 "nbformat_minor": 2
}
